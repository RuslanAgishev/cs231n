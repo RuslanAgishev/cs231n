{
 "cells": [
  {
   "cell_type": "markdown",
   "metadata": {
    "tags": [
     "pdf-title"
    ]
   },
   "source": [
    "# Dropout\n",
    "Dropout [1] is a technique for regularizing neural networks by randomly setting some output activations to zero during the forward pass. In this exercise you will implement a dropout layer and modify your fully-connected network to optionally use dropout.\n",
    "\n",
    "[1] [Geoffrey E. Hinton et al, \"Improving neural networks by preventing co-adaptation of feature detectors\", arXiv 2012](https://arxiv.org/abs/1207.0580)"
   ]
  },
  {
   "cell_type": "code",
   "execution_count": 1,
   "metadata": {
    "tags": [
     "pdf-ignore"
    ]
   },
   "outputs": [
    {
     "name": "stdout",
     "output_type": "stream",
     "text": [
      "run the following from the cs231n directory and try again:\n",
      "python setup.py build_ext --inplace\n",
      "You may also need to restart your iPython kernel\n"
     ]
    }
   ],
   "source": [
    "# As usual, a bit of setup\n",
    "from __future__ import print_function\n",
    "import time\n",
    "import numpy as np\n",
    "import matplotlib.pyplot as plt\n",
    "from cs231n.classifiers.fc_net import *\n",
    "from cs231n.data_utils import get_CIFAR10_data\n",
    "from cs231n.gradient_check import eval_numerical_gradient, eval_numerical_gradient_array\n",
    "from cs231n.solver import Solver\n",
    "\n",
    "%matplotlib inline\n",
    "plt.rcParams['figure.figsize'] = (10.0, 8.0) # set default size of plots\n",
    "plt.rcParams['image.interpolation'] = 'nearest'\n",
    "plt.rcParams['image.cmap'] = 'gray'\n",
    "\n",
    "# for auto-reloading external modules\n",
    "# see http://stackoverflow.com/questions/1907993/autoreload-of-modules-in-ipython\n",
    "%load_ext autoreload\n",
    "%autoreload 2\n",
    "\n",
    "def rel_error(x, y):\n",
    "  \"\"\" returns relative error \"\"\"\n",
    "  return np.max(np.abs(x - y) / (np.maximum(1e-8, np.abs(x) + np.abs(y))))"
   ]
  },
  {
   "cell_type": "code",
   "execution_count": 2,
   "metadata": {
    "tags": [
     "pdf-ignore"
    ]
   },
   "outputs": [
    {
     "name": "stdout",
     "output_type": "stream",
     "text": [
      "X_train:  (49000, 3, 32, 32)\n",
      "y_train:  (49000,)\n",
      "X_val:  (1000, 3, 32, 32)\n",
      "y_val:  (1000,)\n",
      "X_test:  (1000, 3, 32, 32)\n",
      "y_test:  (1000,)\n"
     ]
    }
   ],
   "source": [
    "# Load the (preprocessed) CIFAR10 data.\n",
    "\n",
    "data = get_CIFAR10_data()\n",
    "for k, v in data.items():\n",
    "  print('%s: ' % k, v.shape)"
   ]
  },
  {
   "cell_type": "markdown",
   "metadata": {},
   "source": [
    "# Dropout forward pass\n",
    "In the file `cs231n/layers.py`, implement the forward pass for dropout. Since dropout behaves differently during training and testing, make sure to implement the operation for both modes.\n",
    "\n",
    "Once you have done so, run the cell below to test your implementation."
   ]
  },
  {
   "cell_type": "code",
   "execution_count": 31,
   "metadata": {},
   "outputs": [
    {
     "name": "stdout",
     "output_type": "stream",
     "text": [
      "Running tests with p =  0.25\n",
      "Mean of input:  10.000207878477502\n",
      "Mean of train-time output:  7.496693099233182\n",
      "Mean of test-time output:  2.5000519696193755\n",
      "Fraction of train-time output set to zero:  0.250216\n",
      "Fraction of test-time output set to zero:  0.0\n",
      "\n",
      "Running tests with p =  0.4\n",
      "Mean of input:  10.000207878477502\n",
      "Mean of train-time output:  6.00904081497304\n",
      "Mean of test-time output:  4.000083151391\n",
      "Fraction of train-time output set to zero:  0.399204\n",
      "Fraction of test-time output set to zero:  0.0\n",
      "\n",
      "Running tests with p =  0.7\n",
      "Mean of input:  10.000207878477502\n",
      "Mean of train-time output:  3.008739539965901\n",
      "Mean of test-time output:  7.00014551493425\n",
      "Fraction of train-time output set to zero:  0.69926\n",
      "Fraction of test-time output set to zero:  0.0\n",
      "\n"
     ]
    }
   ],
   "source": [
    "np.random.seed(231)\n",
    "x = np.random.randn(500, 500) + 10\n",
    "\n",
    "for p in [0.25, 0.4, 0.7]:\n",
    "  out, _ = dropout_forward(x, {'mode': 'train', 'p': p})\n",
    "  out_test, _ = dropout_forward(x, {'mode': 'test', 'p': p})\n",
    "\n",
    "  print('Running tests with p = ', p)\n",
    "  print('Mean of input: ', x.mean())\n",
    "  print('Mean of train-time output: ', out.mean())\n",
    "  print('Mean of test-time output: ', out_test.mean())\n",
    "  print('Fraction of train-time output set to zero: ', (out == 0).mean())\n",
    "  print('Fraction of test-time output set to zero: ', (out_test == 0).mean())\n",
    "  print()"
   ]
  },
  {
   "cell_type": "markdown",
   "metadata": {},
   "source": [
    "# Dropout backward pass\n",
    "In the file `cs231n/layers.py`, implement the backward pass for dropout. After doing so, run the following cell to numerically gradient-check your implementation."
   ]
  },
  {
   "cell_type": "code",
   "execution_count": 35,
   "metadata": {},
   "outputs": [
    {
     "name": "stdout",
     "output_type": "stream",
     "text": [
      "dx relative error:  1.892896957390533e-11\n"
     ]
    }
   ],
   "source": [
    "np.random.seed(231)\n",
    "x = np.random.randn(10, 10) + 10\n",
    "dout = np.random.randn(*x.shape)\n",
    "\n",
    "dropout_param = {'mode': 'train', 'p': 0.2, 'seed': 123}\n",
    "out, cache = dropout_forward(x, dropout_param)\n",
    "dx = dropout_backward(dout, cache)\n",
    "dx_num = eval_numerical_gradient_array(lambda xx: dropout_forward(xx, dropout_param)[0], x, dout)\n",
    "\n",
    "# Error should be around e-10 or less\n",
    "print('dx relative error: ', rel_error(dx, dx_num))"
   ]
  },
  {
   "cell_type": "markdown",
   "metadata": {
    "tags": [
     "pdf-inline"
    ]
   },
   "source": [
    "## Inline Question 1:\n",
    "What happens if we do not divide the values being passed through inverse dropout by `p` in the dropout layer? Why does that happen?\n",
    "\n",
    "## Answer:\n",
    "[FILL THIS IN]\n"
   ]
  },
  {
   "cell_type": "markdown",
   "metadata": {},
   "source": [
    "# Fully-connected nets with Dropout\n",
    "In the file `cs231n/classifiers/fc_net.py`, modify your implementation to use dropout. Specifically, if the constructor of the network receives a value that is not 1 for the `dropout` parameter, then the net should add a dropout layer immediately after every ReLU nonlinearity. After doing so, run the following to numerically gradient-check your implementation."
   ]
  },
  {
   "cell_type": "code",
   "execution_count": 37,
   "metadata": {},
   "outputs": [
    {
     "name": "stdout",
     "output_type": "stream",
     "text": [
      "Running check with dropout =  1\n",
      "Initial loss:  2.301105474634216\n",
      "W1 relative error: 8.81e-06\n",
      "W2 relative error: 2.16e-06\n",
      "W3 relative error: 8.49e-08\n",
      "b1 relative error: 2.15e-08\n",
      "b2 relative error: 6.37e-09\n",
      "b3 relative error: 9.94e-11\n",
      "\n",
      "Running check with dropout =  0.75\n",
      "Initial loss:  2.3025603580945213\n",
      "W1 relative error: 3.07e-06\n",
      "W2 relative error: 1.60e-07\n",
      "W3 relative error: 1.23e-06\n",
      "b1 relative error: 4.49e-08\n",
      "b2 relative error: 7.49e-09\n",
      "b3 relative error: 1.03e-10\n",
      "\n",
      "Running check with dropout =  0.5\n",
      "Initial loss:  2.3027581875082106\n",
      "W1 relative error: 2.71e-06\n",
      "W2 relative error: 1.81e-05\n",
      "W3 relative error: 4.09e-08\n",
      "b1 relative error: 1.83e-07\n",
      "b2 relative error: 5.49e-08\n",
      "b3 relative error: 1.12e-10\n",
      "\n"
     ]
    }
   ],
   "source": [
    "np.random.seed(231)\n",
    "N, D, H1, H2, C = 2, 15, 20, 30, 10\n",
    "X = np.random.randn(N, D)\n",
    "y = np.random.randint(C, size=(N,))\n",
    "\n",
    "for dropout in [1, 0.75, 0.5]:\n",
    "  print('Running check with dropout = ', dropout)\n",
    "  model = FullyConnectedNet([H1, H2], input_dim=D, num_classes=C,\n",
    "                            weight_scale=5e-2, dtype=np.float64,\n",
    "                            dropout=dropout, seed=123)\n",
    "\n",
    "  loss, grads = model.loss(X, y)\n",
    "  print('Initial loss: ', loss)\n",
    "  \n",
    "  # Relative errors should be around e-6 or less; Note that it's fine\n",
    "  # if for dropout=1 you have W2 error be on the order of e-5.\n",
    "  for name in sorted(grads):\n",
    "    f = lambda _: model.loss(X, y)[0]\n",
    "    grad_num = eval_numerical_gradient(f, model.params[name], verbose=False, h=1e-5)\n",
    "    print('%s relative error: %.2e' % (name, rel_error(grad_num, grads[name])))\n",
    "  print()"
   ]
  },
  {
   "cell_type": "markdown",
   "metadata": {},
   "source": [
    "# Regularization experiment\n",
    "As an experiment, we will train a pair of two-layer networks on 500 training examples: one will use no dropout, and one will use a keep probability of 0.25. We will then visualize the training and validation accuracies of the two networks over time."
   ]
  },
  {
   "cell_type": "code",
   "execution_count": 40,
   "metadata": {
    "scrolled": false
   },
   "outputs": [
    {
     "name": "stdout",
     "output_type": "stream",
     "text": [
      "1\n",
      "(Iteration 1 / 125) loss: 20.677646\n",
      "(Epoch 0 / 25) train acc: 0.094000; val_acc: 0.103000\n",
      "(Epoch 1 / 25) train acc: 0.168000; val_acc: 0.177000\n",
      "(Epoch 2 / 25) train acc: 0.188000; val_acc: 0.148000\n",
      "(Epoch 3 / 25) train acc: 0.244000; val_acc: 0.180000\n",
      "(Epoch 4 / 25) train acc: 0.266000; val_acc: 0.216000\n",
      "(Epoch 5 / 25) train acc: 0.294000; val_acc: 0.224000\n",
      "(Epoch 6 / 25) train acc: 0.348000; val_acc: 0.226000\n",
      "(Epoch 7 / 25) train acc: 0.376000; val_acc: 0.233000\n",
      "(Epoch 8 / 25) train acc: 0.434000; val_acc: 0.263000\n",
      "(Epoch 9 / 25) train acc: 0.436000; val_acc: 0.253000\n",
      "(Epoch 10 / 25) train acc: 0.536000; val_acc: 0.246000\n",
      "(Epoch 11 / 25) train acc: 0.576000; val_acc: 0.276000\n",
      "(Epoch 12 / 25) train acc: 0.614000; val_acc: 0.298000\n",
      "(Epoch 13 / 25) train acc: 0.652000; val_acc: 0.297000\n",
      "(Epoch 14 / 25) train acc: 0.712000; val_acc: 0.288000\n",
      "(Epoch 15 / 25) train acc: 0.790000; val_acc: 0.292000\n",
      "(Epoch 16 / 25) train acc: 0.788000; val_acc: 0.262000\n",
      "(Epoch 17 / 25) train acc: 0.812000; val_acc: 0.273000\n",
      "(Epoch 18 / 25) train acc: 0.856000; val_acc: 0.253000\n",
      "(Epoch 19 / 25) train acc: 0.892000; val_acc: 0.265000\n",
      "(Epoch 20 / 25) train acc: 0.924000; val_acc: 0.275000\n",
      "(Iteration 101 / 125) loss: 0.233391\n",
      "(Epoch 21 / 25) train acc: 0.942000; val_acc: 0.291000\n",
      "(Epoch 22 / 25) train acc: 0.948000; val_acc: 0.264000\n",
      "(Epoch 23 / 25) train acc: 0.970000; val_acc: 0.271000\n",
      "(Epoch 24 / 25) train acc: 0.974000; val_acc: 0.271000\n",
      "(Epoch 25 / 25) train acc: 0.982000; val_acc: 0.288000\n",
      "\n",
      "0.75\n",
      "(Iteration 1 / 125) loss: 7.023298\n",
      "(Epoch 0 / 25) train acc: 0.158000; val_acc: 0.145000\n",
      "(Epoch 1 / 25) train acc: 0.212000; val_acc: 0.166000\n",
      "(Epoch 2 / 25) train acc: 0.220000; val_acc: 0.176000\n",
      "(Epoch 3 / 25) train acc: 0.252000; val_acc: 0.216000\n",
      "(Epoch 4 / 25) train acc: 0.276000; val_acc: 0.215000\n",
      "(Epoch 5 / 25) train acc: 0.360000; val_acc: 0.237000\n",
      "(Epoch 6 / 25) train acc: 0.332000; val_acc: 0.252000\n",
      "(Epoch 7 / 25) train acc: 0.394000; val_acc: 0.246000\n",
      "(Epoch 8 / 25) train acc: 0.430000; val_acc: 0.256000\n",
      "(Epoch 9 / 25) train acc: 0.416000; val_acc: 0.263000\n",
      "(Epoch 10 / 25) train acc: 0.482000; val_acc: 0.273000\n",
      "(Epoch 11 / 25) train acc: 0.518000; val_acc: 0.294000\n",
      "(Epoch 12 / 25) train acc: 0.538000; val_acc: 0.298000\n",
      "(Epoch 13 / 25) train acc: 0.588000; val_acc: 0.318000\n",
      "(Epoch 14 / 25) train acc: 0.600000; val_acc: 0.315000\n",
      "(Epoch 15 / 25) train acc: 0.628000; val_acc: 0.298000\n",
      "(Epoch 16 / 25) train acc: 0.690000; val_acc: 0.309000\n",
      "(Epoch 17 / 25) train acc: 0.660000; val_acc: 0.305000\n",
      "(Epoch 18 / 25) train acc: 0.670000; val_acc: 0.309000\n",
      "(Epoch 19 / 25) train acc: 0.720000; val_acc: 0.308000\n",
      "(Epoch 20 / 25) train acc: 0.754000; val_acc: 0.326000\n",
      "(Iteration 101 / 125) loss: 1.672978\n",
      "(Epoch 21 / 25) train acc: 0.782000; val_acc: 0.324000\n",
      "(Epoch 22 / 25) train acc: 0.788000; val_acc: 0.329000\n",
      "(Epoch 23 / 25) train acc: 0.768000; val_acc: 0.319000\n",
      "(Epoch 24 / 25) train acc: 0.820000; val_acc: 0.327000\n",
      "(Epoch 25 / 25) train acc: 0.818000; val_acc: 0.319000\n",
      "\n"
     ]
    }
   ],
   "source": [
    "# Train two identical nets, one with dropout and one without\n",
    "np.random.seed(231)\n",
    "num_train = 500\n",
    "small_data = {\n",
    "  'X_train': data['X_train'][:num_train],\n",
    "  'y_train': data['y_train'][:num_train],\n",
    "  'X_val': data['X_val'],\n",
    "  'y_val': data['y_val'],\n",
    "}\n",
    "\n",
    "solvers = {}\n",
    "dropout_choices = [1, 0.75]\n",
    "for dropout in dropout_choices:\n",
    "  model = FullyConnectedNet([500], dropout=dropout)\n",
    "  print(dropout)\n",
    "\n",
    "  solver = Solver(model, small_data,\n",
    "                  num_epochs=25, batch_size=100,\n",
    "                  update_rule='adam',\n",
    "                  optim_config={\n",
    "                    'learning_rate': 5e-4,\n",
    "                  },\n",
    "                  verbose=True, print_every=100)\n",
    "  solver.train()\n",
    "  solvers[dropout] = solver\n",
    "  print()"
   ]
  },
  {
   "cell_type": "code",
   "execution_count": 41,
   "metadata": {},
   "outputs": [
    {
     "data": {
      "image/png": "[encoded data removed]",
      "text/plain": [
       "<Figure size 1080x1080 with 2 Axes>"
      ]
     },
     "metadata": {
      "needs_background": "light"
     },
     "output_type": "display_data"
    }
   ],
   "source": [
    "# Plot train and validation accuracies of the two models\n",
    "\n",
    "train_accs = []\n",
    "val_accs = []\n",
    "for dropout in dropout_choices:\n",
    "  solver = solvers[dropout]\n",
    "  train_accs.append(solver.train_acc_history[-1])\n",
    "  val_accs.append(solver.val_acc_history[-1])\n",
    "\n",
    "plt.subplot(3, 1, 1)\n",
    "for dropout in dropout_choices:\n",
    "  plt.plot(solvers[dropout].train_acc_history, 'o', label='%.2f dropout' % dropout)\n",
    "plt.title('Train accuracy')\n",
    "plt.xlabel('Epoch')\n",
    "plt.ylabel('Accuracy')\n",
    "plt.legend(ncol=2, loc='lower right')\n",
    "  \n",
    "plt.subplot(3, 1, 2)\n",
    "for dropout in dropout_choices:\n",
    "  plt.plot(solvers[dropout].val_acc_history, 'o', label='%.2f dropout' % dropout)\n",
    "plt.title('Val accuracy')\n",
    "plt.xlabel('Epoch')\n",
    "plt.ylabel('Accuracy')\n",
    "plt.legend(ncol=2, loc='lower right')\n",
    "\n",
    "plt.gcf().set_size_inches(15, 15)\n",
    "plt.show()"
   ]
  },
  {
   "cell_type": "markdown",
   "metadata": {
    "tags": [
     "pdf-inline"
    ]
   },
   "source": [
    "## Inline Question 2:\n",
    "Compare the validation and training accuracies with and without dropout -- what do your results suggest about dropout as a regularizer?\n",
    "\n",
    "## Answer:\n",
    "[FILL THIS IN]\n"
   ]
  },
  {
   "cell_type": "markdown",
   "metadata": {
    "tags": [
     "pdf-inline"
    ]
   },
   "source": [
    "## Inline Question 3:\n",
    "Suppose we are training a deep fully-connected network for image classification, with dropout after hidden layers (parameterized by keep probability p). If we are concerned about overfitting, how should we modify p (if at all) when we decide to decrease the size of the hidden layers (that is, the number of nodes in each layer)?\n",
    "\n",
    "## Answer:\n",
    "[FILL THIS IN]\n"
   ]
  }
 ],
 "metadata": {
  "kernelspec": {
   "display_name": "Python 3",
   "language": "python",
   "name": "python3"
  },
  "language_info": {
   "codemirror_mode": {
    "name": "ipython",
    "version": 3
   },
   "file_extension": ".py",
   "mimetype": "text/x-python",
   "name": "python",
   "nbconvert_exporter": "python",
   "pygments_lexer": "ipython3",
   "version": "3.7.6"
  }
 },
 "nbformat": 4,
 "nbformat_minor": 2
}
